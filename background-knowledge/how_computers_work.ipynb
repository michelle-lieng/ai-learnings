{
 "cells": [
  {
   "cell_type": "markdown",
   "id": "c61db61a",
   "metadata": {},
   "source": [
    "## The Beginning: How computers talk\n",
    "\n",
    "Computers communicate by sending data as 0s and 1s (bits).\n",
    "These bits travel through physical media:\n",
    "- Fiber optic cables (light pulses)\n",
    "- Copper cables (Ethernet) (electrical signals)\n",
    "- Wi-Fi / Mobile (4G/5G) (radio waves)\n",
    "\n",
    "To make this reliable, we don’t just send raw bits — we use protocols(agreed rules) that define how data is packaged, transmitted, and understood. Example: like humans agreeing on a language (English, Spanish, etc.).\n",
    "\n",
    "## The OSI Model (Conceptual, 7 Layers)\n",
    "The OSI (Open Systems Interconnection) model is a theoretical framework that explains how data travels across a network, from physical wires all the way to applications.\n",
    "\n",
    "Words to understand first:\n",
    "- LAN (Local Area Network) vs Global Networking (WAN = Wider Area Network)\n",
    "    - LAN is any network that connects devices in a limited physical area like Ethernet (wired LAN, office cables), Wifi (wireless LAN, your router at home), Bluetooth --> e.g. airdrop, LAN multiplayer games, printer (communication that doesn't leave local network)\n",
    "    - WAN is a large network that connects multiple LANs = the internet is the largest WAN. Technologies: fiber backbones, undersea cables, satellite, cellular (4G/5G).\n",
    "- Every device on a network has 2 identifies:\n",
    "    1. MAC address is the unique hardward of a device burned on by the manufacturer. Used inside a LAN to deliver frames.\n",
    "    2. IP address is assigned by your router and changes depending on where you connect. You can have a private IP (only used for LAN) and a public IP which can be used globally.\n",
    "- How does a router work?\n",
    "    - In a house each device has it's own private IP. The router has a local IP and a public IP (given by the Internet Service Protocol (ISP)).\n",
    "    - NAT = network address translation -> process used to translate between private IP and public IP address. It's important because we can conserve the IPv4 addresses (one public IP per household not device)\n",
    "- IPv4 (internet protocol v4) vs IPv6\n",
    "    - Oldest widely used IP introduced in 1981 only uses 32-bit addresses so we ran out of addresses and so we introduced IPv6 which is newest version of IP and is still rolling out and uses 128-bit addresses \n",
    "\n",
    "The 7 Layers:\n",
    "1. Application Layer – end-user protocols (HTTP, FTP, SMTP, DNS).\n",
    "    - This is the layer where apps and humans iteract. \n",
    "\n",
    "2. Presentation Layer – data formatting, encryption, compression (TLS, encoding).\n",
    "\n",
    "3. Session Layer – manages sessions/continuous connections.\n",
    "\n",
    "4. Transport Layer – reliable delivery (TCP, UDP).\n",
    "\n",
    "5. Network Layer – logical addressing & routing between networks (IP, ICMP).\n",
    "\n",
    "6. Data Link Layer – local delivery inside a network (Ethernet, Wi-Fi, Bluetooth).\n",
    "    - Takes the random raw bits and wraps them into \"frames\" with metadata. The frames are envelops that ensure messages on a local network get delivered to the correct device. It adds metadata like:\n",
    "        - Destination MAC = “this is for device 00:1A:2B...”\n",
    "        - Source MAC = “it was sent by device 11:22:33...”\n",
    "        - Type = what’s inside the payload (IPv4, IPv6, ARP, etc.)\n",
    "        - Payload = the actual message carried usually an IP package which itself contains either a TCP/UDP segment and application data (HTTP, DNS, etc.)\n",
    "        - CRC (cyclic redundancy check) = error check (like a seal verifying the envelope isn’t torn).\n",
    "    - HIGH LEVEL: Makes sure the right device on the local network gets the data.\n",
    "    - ARP (Address resolution protocol) is a simple protocol used inside a LAN to translate between the IP address and a MAC address. E.g. you click print from your phone and you choose which printer to use and when you click we only know the IP of the printer, hence ARP finds the MAC of the printer so that it can communicate and do your task.\n",
    "\n",
    "7. Physical Layer – raw bits on cables/fiber/radio.\n",
    "    - It just moves 0s and 1s (electric pulses, light flashes, or radio signals)."
   ]
  },
  {
   "cell_type": "markdown",
   "id": "649031c2",
   "metadata": {},
   "source": [
    "<p align=\"center\">\n",
    "    <img src=\"..\\assets\\osi_model_layers.png\" alt=\"Osi Model Layers\" width=\"300\"/>\n",
    "</p>"
   ]
  },
  {
   "cell_type": "markdown",
   "id": "96687dde",
   "metadata": {},
   "source": [
    "## The TCP/IP Model (Practical, 4 Layers)\n",
    "\n",
    "In practice, the internet doesn’t strictly use all 7 OSI layers. Instead, it uses the TCP/IP model (named after its core protocols). It condenses OSI into 4 layers:\n",
    "\n",
    "1. Link (Network Interface)\n",
    "    - Combines OSI’s Physical + Data Link.\n",
    "    - Ethernet, Wi-Fi, ARP.\n",
    "2. Internet Layer\n",
    "    - Equivalent to OSI’s Network layer.\n",
    "    - Handles addressing and routing (IP, ICMP).\n",
    "3. Transport Layer\n",
    "    - Same as OSI’s Transport.\n",
    "    - TCP, UDP.\n",
    "4. Application Layer\n",
    "    - Combines OSI’s Session + Presentation + Application.\n",
    "    - HTTP, FTP, DNS, SMTP, TLS, etc.\n",
    "\n",
    "!! TCP/IP is simpler, and it’s what the real internet actually uses. !!"
   ]
  },
  {
   "cell_type": "markdown",
   "id": "96fb8331",
   "metadata": {},
   "source": [
    "<p align=\"center\">\n",
    "    <img src=\"..\\assets\\osi_to_tsp_ip.png\" width=\"300\"/>\n",
    "</p>"
   ]
  }
 ],
 "metadata": {
  "kernelspec": {
   "display_name": "Python 3",
   "language": "python",
   "name": "python3"
  },
  "language_info": {
   "codemirror_mode": {
    "name": "ipython",
    "version": 3
   },
   "file_extension": ".py",
   "mimetype": "text/x-python",
   "name": "python",
   "nbconvert_exporter": "python",
   "pygments_lexer": "ipython3",
   "version": "3.11.9"
  }
 },
 "nbformat": 4,
 "nbformat_minor": 5
}
