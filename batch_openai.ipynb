{
 "cells": [
  {
   "cell_type": "markdown",
   "id": "6290d4bf",
   "metadata": {},
   "source": [
    "# Batch OpenAI"
   ]
  },
  {
   "cell_type": "markdown",
   "id": "8131b64d",
   "metadata": {},
   "source": [
    "1. Create the batch file and upload"
   ]
  },
  {
   "cell_type": "code",
   "execution_count": 14,
   "id": "fd71ba86",
   "metadata": {},
   "outputs": [
    {
     "name": "stdout",
     "output_type": "stream",
     "text": [
      "FileObject(id='file-JWoWtY6WurRknUDZjAiKwn', bytes=517, created_at=1758807171, filename='batchinput.jsonl', object='file', purpose='batch', status='processed', expires_at=1761399171, status_details=None)\n"
     ]
    }
   ],
   "source": [
    "from openai import OpenAI\n",
    "from dotenv import load_dotenv\n",
    "\n",
    "load_dotenv()\n",
    "client = OpenAI()\n",
    "\n",
    "batch_input_file = client.files.create(\n",
    "    file=open(\"batchinput.jsonl\", \"rb\"),\n",
    "    purpose=\"batch\"\n",
    ")\n",
    "\n",
    "print(batch_input_file)"
   ]
  },
  {
   "cell_type": "markdown",
   "id": "333390c3",
   "metadata": {},
   "source": [
    "2. Create batch"
   ]
  },
  {
   "cell_type": "code",
   "execution_count": 15,
   "id": "d212a1f6",
   "metadata": {},
   "outputs": [
    {
     "data": {
      "text/plain": [
       "Batch(id='batch_68d54485e6288190a7c859d4e7d64fe8', completion_window='24h', created_at=1758807173, endpoint='/v1/chat/completions', input_file_id='file-JWoWtY6WurRknUDZjAiKwn', object='batch', status='validating', cancelled_at=None, cancelling_at=None, completed_at=None, error_file_id=None, errors=None, expired_at=None, expires_at=1758893573, failed_at=None, finalizing_at=None, in_progress_at=None, metadata={'description': 'nightly eval job'}, output_file_id=None, request_counts=BatchRequestCounts(completed=0, failed=0, total=0), model=None, usage={'input_tokens': 0, 'output_tokens': 0, 'total_tokens': 0, 'input_tokens_details': {'cached_tokens': 0}, 'output_tokens_details': {'reasoning_tokens': 0}})"
      ]
     },
     "execution_count": 15,
     "metadata": {},
     "output_type": "execute_result"
    }
   ],
   "source": [
    "batch_input_file_id = batch_input_file.id\n",
    "client.batches.create(\n",
    "    input_file_id=batch_input_file_id,\n",
    "    endpoint=\"/v1/chat/completions\",\n",
    "    completion_window=\"24h\",\n",
    "    metadata={\n",
    "        \"description\": \"nightly eval job\"\n",
    "    }\n",
    ")"
   ]
  },
  {
   "cell_type": "markdown",
   "id": "6d680e9e",
   "metadata": {},
   "source": [
    "3. Get status of batch"
   ]
  },
  {
   "cell_type": "code",
   "execution_count": 16,
   "id": "44253abf",
   "metadata": {},
   "outputs": [
    {
     "name": "stdout",
     "output_type": "stream",
     "text": [
      "Batch(id='batch_68d54313af148190acc6a092ceddd392', completion_window='24h', created_at=1758806803, endpoint='/v1/chat/completions', input_file_id='file-JPmYe5hp36WwrHfhDwZB57', object='batch', status='completed', cancelled_at=None, cancelling_at=None, completed_at=1758806989, error_file_id=None, errors=None, expired_at=None, expires_at=1758893203, failed_at=None, finalizing_at=1758806988, in_progress_at=1758806864, metadata={'description': 'nightly eval job'}, output_file_id='file-DQpaJhz67qWEZc3WzbUbUf', request_counts=BatchRequestCounts(completed=2, failed=0, total=2), model='gpt-3.5-turbo-0125', usage={'input_tokens': 42, 'output_tokens': 16, 'total_tokens': 58, 'input_tokens_details': {'cached_tokens': 0}, 'output_tokens_details': {'reasoning_tokens': 0}})\n"
     ]
    }
   ],
   "source": [
    "batch = client.batches.retrieve(\"batch_68d54313af148190acc6a092ceddd392\")\n",
    "print(batch)"
   ]
  },
  {
   "cell_type": "markdown",
   "id": "28a817e1",
   "metadata": {},
   "source": [
    "4. Retrieve batch"
   ]
  },
  {
   "cell_type": "code",
   "execution_count": 17,
   "id": "55f19dbd",
   "metadata": {},
   "outputs": [
    {
     "name": "stdout",
     "output_type": "stream",
     "text": [
      "{\"id\": \"batch_req_68d543cd33508190bb47654bb2be4cd3\", \"custom_id\": \"request-1\", \"response\": {\"status_code\": 200, \"request_id\": \"4df743d421c412071c70733d92ac4916\", \"body\": {\"id\": \"chatcmpl-CJgKUC9XJIfzqMvF5Z9wIt4YOOzJh\", \"object\": \"chat.completion\", \"created\": 1758806982, \"model\": \"gpt-3.5-turbo-0125\", \"choices\": [{\"index\": 0, \"message\": {\"role\": \"assistant\", \"content\": \"Hello! How can I assist you today?\", \"refusal\": null, \"annotations\": []}, \"logprobs\": null, \"finish_reason\": \"stop\"}], \"usage\": {\"prompt_tokens\": 20, \"completion_tokens\": 9, \"total_tokens\": 29, \"prompt_tokens_details\": {\"cached_tokens\": 0, \"audio_tokens\": 0}, \"completion_tokens_details\": {\"reasoning_tokens\": 0, \"audio_tokens\": 0, \"accepted_prediction_tokens\": 0, \"rejected_prediction_tokens\": 0}}, \"service_tier\": \"default\", \"system_fingerprint\": null}}, \"error\": null}\n",
      "{\"id\": \"batch_req_68d543cd148c8190b156e478bb2429c8\", \"custom_id\": \"request-2\", \"response\": {\"status_code\": 200, \"request_id\": \"b138f089a47557992886345e77cf6ea2\", \"body\": {\"id\": \"chatcmpl-CJgKVYPgykGEwE7V9LO3zTL5xiw2F\", \"object\": \"chat.completion\", \"created\": 1758806983, \"model\": \"gpt-3.5-turbo-0125\", \"choices\": [{\"index\": 0, \"message\": {\"role\": \"assistant\", \"content\": \"Greetings. What do you want?\", \"refusal\": null, \"annotations\": []}, \"logprobs\": null, \"finish_reason\": \"stop\"}], \"usage\": {\"prompt_tokens\": 22, \"completion_tokens\": 7, \"total_tokens\": 29, \"prompt_tokens_details\": {\"cached_tokens\": 0, \"audio_tokens\": 0}, \"completion_tokens_details\": {\"reasoning_tokens\": 0, \"audio_tokens\": 0, \"accepted_prediction_tokens\": 0, \"rejected_prediction_tokens\": 0}}, \"service_tier\": \"default\", \"system_fingerprint\": null}}, \"error\": null}\n",
      "\n"
     ]
    }
   ],
   "source": [
    "file_response = client.files.content(\"file-DQpaJhz67qWEZc3WzbUbUf\")\n",
    "print(file_response.text)"
   ]
  }
 ],
 "metadata": {
  "kernelspec": {
   "display_name": ".venv",
   "language": "python",
   "name": "python3"
  },
  "language_info": {
   "codemirror_mode": {
    "name": "ipython",
    "version": 3
   },
   "file_extension": ".py",
   "mimetype": "text/x-python",
   "name": "python",
   "nbconvert_exporter": "python",
   "pygments_lexer": "ipython3",
   "version": "3.11.9"
  }
 },
 "nbformat": 4,
 "nbformat_minor": 5
}
