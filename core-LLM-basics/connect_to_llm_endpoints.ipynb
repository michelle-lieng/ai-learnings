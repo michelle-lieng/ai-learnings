{
 "cells": [
  {
   "cell_type": "markdown",
   "id": "065916ad",
   "metadata": {},
   "source": [
    "## How to Connect to LLM API Endpoints\n",
    "\n",
    "Here will cover:\n",
    "- What are SDKs?\n",
    "- Gemini, Openai SDKs \n",
    "- cURL & Python requests alternative\n",
    "\n",
    "Note: With calling openai we are using the responses api endpt.\n",
    "\n",
    "First let's load the api keys from env."
   ]
  },
  {
   "cell_type": "code",
   "execution_count": null,
   "id": "609a1429",
   "metadata": {},
   "outputs": [],
   "source": [
    "from dotenv import load_dotenv\n",
    "import os\n",
    "\n",
    "load_dotenv()\n",
    "\n",
    "GEMINI_API_KEY = os.getenv(\"GEMINI_API_KEY\")\n",
    "OPENAI_API_KEY = os.getenv(\"OPENAI_API_KEY\")"
   ]
  },
  {
   "cell_type": "markdown",
   "id": "d65d29d6",
   "metadata": {},
   "source": [
    "## Easiest way to access is through an SDK\n",
    "\n",
    "SDK = Software Development Kit.\n",
    "It’s a library (plus docs + helpers) that a company provides so you don’t have to write low-level API calls yourself.\n",
    "\n",
    "Instead of manually crafting curl or requests.post(...), the SDK gives you functions and classes in your programming language.\n",
    "\n",
    "For LLMs specifically the SDK is just a wrapper around the raw REST API of the model provider (OpenAI, Google Gemini, Anthropic, etc.).\n",
    "\n",
    "It usually does things like:\n",
    "- Handle authentication for you (you just set API_KEY once).\n",
    "- Simplify sending prompts (model.generate_content(\"hello\") instead of JSON bodies).\n",
    "- Parse the responses into friendly objects (instead of raw JSON)."
   ]
  },
  {
   "cell_type": "markdown",
   "id": "b392cc5e",
   "metadata": {},
   "source": [
    "### Connect to Gemini via Gemini SDK"
   ]
  },
  {
   "cell_type": "code",
   "execution_count": 18,
   "id": "fb5ec955",
   "metadata": {},
   "outputs": [
    {
     "name": "stdout",
     "output_type": "stream",
     "text": [
      "Cats enjoy a variety of foods, including meat, fish, and specially formulated cat food.\n",
      "\n"
     ]
    }
   ],
   "source": [
    "import google.generativeai as genai\n",
    "\n",
    "# Configure Gemini with your API key\n",
    "genai.configure(api_key=os.environ[\"GEMINI_API_KEY\"])\n",
    "\n",
    "# Create a model with system instructions and generation config\n",
    "model = genai.GenerativeModel(\n",
    "    model_name=\"gemini-2.0-flash\",\n",
    "    system_instruction=\"You are a helpful assistant that always answers politely and succintly.\",\n",
    "    generation_config={\n",
    "        \"max_output_tokens\": 30,   # cap response length (~words×4 = tokens)\n",
    "        \"temperature\": 0.7,        # creativity\n",
    "        \"top_p\": 0.9,              # nucleus sampling\n",
    "        \"top_k\": 40                # top-k sampling\n",
    "    }\n",
    ")\n",
    "\n",
    "# Generate a response with the user prompt\n",
    "resp = model.generate_content(\"What do cats like to eat?\")\n",
    "print(resp.text)\n"
   ]
  },
  {
   "cell_type": "markdown",
   "id": "f9f6e4c6",
   "metadata": {},
   "source": [
    "### Connect to OpenAI via OpenAI SDK"
   ]
  },
  {
   "cell_type": "code",
   "execution_count": 19,
   "id": "8245c756",
   "metadata": {},
   "outputs": [
    {
     "name": "stdout",
     "output_type": "stream",
     "text": [
      "Hello! How are you today?\n"
     ]
    }
   ],
   "source": [
    "from openai import OpenAI\n",
    "\n",
    "client = OpenAI(api_key=OPENAI_API_KEY)\n",
    "\n",
    "resp = client.chat.completions.create(\n",
    "    model=\"gpt-4o-mini\",   # or \"gpt-4o\", \"gpt-3.5-turbo\", etc.\n",
    "    messages=[\n",
    "        {\"role\": \"system\", \"content\": \"You are a polite assistant who always answers concisely.\"},\n",
    "        {\"role\": \"user\", \"content\": \"Say hi in 5 words.\"}\n",
    "    ],\n",
    "    max_tokens=30,       # cap response length\n",
    "    temperature=0.7,     # creativity\n",
    "    top_p=0.9,           # nucleus sampling\n",
    "    frequency_penalty=0, # discourage repetition\n",
    "    presence_penalty=0   # encourage new topics\n",
    ")\n",
    "\n",
    "print(resp.choices[0].message.content)\n"
   ]
  },
  {
   "cell_type": "markdown",
   "id": "49a1a550",
   "metadata": {},
   "source": [
    "Interesting is that we can also call Gemini through the OpenAI SDK. Google exposed a compatibility layer that lets you call Gemini models using the OpenAI SDK style (the responses.create API).\n",
    "- Endpoint: https://generativelanguage.googleapis.com/v1beta/openai/\n",
    "- Auth: still your Gemini API key, not an OpenAI key.\n",
    "\n",
    "Google did this because it helps people who are on the OpenAI SDK to quickly try Gemini's model without rewriting much code. It's not perfect parity - Gemini's advanced features are only native in the Gemini SDK or REST API."
   ]
  },
  {
   "cell_type": "code",
   "execution_count": 20,
   "id": "6bcb8a6b",
   "metadata": {},
   "outputs": [
    {
     "name": "stdout",
     "output_type": "stream",
     "text": [
      "A dog, scientifically known as *Canis lupus familiaris*, is a domesticated mammal belonging to the Canidae family, which also includes wolves, foxes, and jackals.\n",
      "\n",
      "Here's a breakdown of what that means and some key characteristics of dogs:\n",
      "\n",
      "*   **Domesticated:** Dogs are descendants of wolves and were domesticated by humans thousands of years ago. Domestication means they have been selectively bred and adapted to live alongside humans, exhibiting behavioral traits and physical characteristics different from their wild ancestors.\n",
      "*   **Mammal:** They are warm-blooded animals with fur or hair, give birth to live young, and nourish their offspring with milk produced by mammary glands.\n",
      "*   **Canidae:** This is the biological family that includes all dog-like carnivores.\n",
      "*   **Carnivore (but often omnivorous):** While classified as carnivores, dogs have evolved to digest a wider range of foods, including grains and vegetables, often making them omnivores in practice.\n",
      "\n",
      "**Key Characteristics:**\n",
      "\n",
      "*   **Variety:** Dogs exhibit an extraordinary range of breeds, sizes, shapes, colors, and temperaments due to selective breeding over centuries.\n",
      "*   **Social Animals:** They are typically social animals that form packs or attachments to their human families.\n",
      "*   **Loyalty:** Dogs are known for their loyalty and affection towards their owners.\n",
      "*   **Intelligence:** Many dog breeds are highly intelligent and trainable.\n",
      "*   **Senses:** They have a highly developed sense of smell and hearing, which makes them useful for various tasks like hunting, detection, and rescue.\n",
      "*   **Communication:** Dogs communicate through a variety of vocalizations (barking, howling, whining), body language (tail wags, ear positions), and scent marking.\n",
      "\n",
      "**In simpler terms:**\n",
      "\n",
      "A dog is a furry, four-legged animal that is a popular pet. They are known for being friendly, loyal, and helpful companions to humans. They come in all shapes and sizes and have been bred for different purposes.\n",
      "\n"
     ]
    }
   ],
   "source": [
    "from openai import OpenAI\n",
    "\n",
    "client = OpenAI(\n",
    "    api_key=os.environ[\"GEMINI_API_KEY\"],  # still a Gemini key\n",
    "    base_url=\"https://generativelanguage.googleapis.com/v1beta/openai/\"\n",
    ")\n",
    "\n",
    "resp = client.chat.completions.create(\n",
    "    model=\"gemini-2.0-flash\",\n",
    "    messages=[{\"role\": \"user\", \"content\": \"What is a dog?\"}]\n",
    ")\n",
    "\n",
    "print(resp.choices[0].message.content)  # -> \"Hello there, how are you?\""
   ]
  },
  {
   "cell_type": "markdown",
   "id": "69103b07",
   "metadata": {},
   "source": [
    "## Send raw HTTP requests using cURL or Python requests\n",
    "\n",
    "The core idea is that:\n",
    "- cURL = a command-line tool to send HTTP requests\n",
    "- requests = a python library for making same HTTP requests inside code.\n",
    "\n",
    "Both:\n",
    "- Send HTTP requests (GET, POST, etc.).\n",
    "- Add headers (like Authorization).\n",
    "- Send JSON bodies.\n",
    "- Get back JSON you can read."
   ]
  },
  {
   "cell_type": "markdown",
   "id": "f72310be",
   "metadata": {},
   "source": [
    "### cURL using Gemini"
   ]
  },
  {
   "cell_type": "code",
   "execution_count": 21,
   "id": "c13e1d85",
   "metadata": {},
   "outputs": [
    {
     "name": "stderr",
     "output_type": "stream",
     "text": [
      "  % Total    % Received % Xferd  Average Speed   Time    Time     Time  Current\n",
      "                                 Dload  Upload   Total   Spent    Left  Speed\n",
      "100  1000    0   755  100   245    874    283 --:--:-- --:--:-- --:--:--  1158  100   245    874    283 --:--:-- --:--:-- --:--:--  1158"
     ]
    },
    {
     "name": "stdout",
     "output_type": "stream",
     "text": [
      "{\n",
      "  \"candidates\": [\n",
      "    {\n",
      "      \"content\": {\n",
      "        \"parts\": [\n",
      "          {\n",
      "            \"text\": \"A dog is a domesticated carnivorous mammal, descended from wolves, known for its loyalty, trainability,\"\n",
      "          }\n",
      "        ],\n",
      "        \"role\": \"model\"\n",
      "      },\n",
      "      \"finishReason\": \"MAX_TOKENS\",\n",
      "      \"avgLogprobs\": -0.12728489012945265\n",
      "    }\n",
      "  ],\n",
      "  \"usageMetadata\": {\n",
      "    \"promptTokenCount\": 11,\n",
      "    \"candidatesTokenCount\": 21,\n",
      "    \"totalTokenCount\": 32,\n",
      "    \"promptTokensDetails\": [\n",
      "      {\n",
      "        \"modality\": \"TEXT\",\n",
      "        \"tokenCount\": 11\n",
      "      }\n",
      "    ],\n",
      "    \"candidatesTokensDetails\": [\n",
      "      {\n",
      "        \"modality\": \"TEXT\",\n",
      "        \"tokenCount\": 21\n",
      "      }\n",
      "    ]\n",
      "  },\n",
      "  \"modelVersion\": \"gemini-2.0-flash\",\n",
      "  \"responseId\": \"FCmjaN2iFZ2gz7IP49js2QY\"\n",
      "}\n"
     ]
    },
    {
     "name": "stderr",
     "output_type": "stream",
     "text": [
      "\n"
     ]
    }
   ],
   "source": [
    "%%bash\n",
    "# load .env so GEMINI_API_KEY is available in this subshell\n",
    "export $(grep -v '^#' .env | xargs)\n",
    "\n",
    "# Call Gemini API\n",
    "curl \\\n",
    "  -H \"Content-Type: application/json\" \\\n",
    "  -H \"x-goog-api-key: $GEMINI_API_KEY\" \\\n",
    "  -d '{\n",
    "    \"contents\": [{\n",
    "      \"role\": \"user\",\n",
    "      \"parts\": [{\"text\":\"Explain to me what a dog is. Be succint\"}]\n",
    "    }],\n",
    "    \"generationConfig\": {\n",
    "      \"maxOutputTokens\": 20,\n",
    "      \"temperature\": 0.7,\n",
    "      \"topP\": 0.9,\n",
    "      \"topK\": 40\n",
    "    }\n",
    "  }' \\\n",
    "  https://generativelanguage.googleapis.com/v1beta/models/gemini-2.0-flash:generateContent\n"
   ]
  },
  {
   "cell_type": "markdown",
   "id": "c1cfbb9b",
   "metadata": {},
   "source": [
    "### cURL using OpenAI"
   ]
  },
  {
   "cell_type": "code",
   "execution_count": 22,
   "id": "4c061df4",
   "metadata": {},
   "outputs": [
    {
     "name": "stderr",
     "output_type": "stream",
     "text": [
      "  % Total    % Received % Xferd  Average Speed   Time    Time     Time  Current\n",
      "                                 Dload  Upload   Total   Spent    Left  Speed\n",
      "100  1444  100  1391  100    53   1883     71 --:--:-- --:--:-- --:--:--  1959  100    53   1883     71 --:--:-- --:--:-- --:--:--  1959"
     ]
    },
    {
     "name": "stdout",
     "output_type": "stream",
     "text": [
      "{\n",
      "  \"id\": \"resp_68a3291533cc81a1bf76754e284a065405ca8cbe41284a83\",\n",
      "  \"object\": \"response\",\n",
      "  \"created_at\": 1755523349,\n",
      "  \"status\": \"completed\",\n",
      "  \"background\": false,\n",
      "  \"error\": null,\n",
      "  \"incomplete_details\": null,\n",
      "  \"instructions\": null,\n",
      "  \"max_output_tokens\": null,\n",
      "  \"max_tool_calls\": null,\n",
      "  \"model\": \"gpt-4.1-mini-2025-04-14\",\n",
      "  \"output\": [\n",
      "    {\n",
      "      \"id\": \"msg_68a32915761c81a1b1d3ac0faa8c347205ca8cbe41284a83\",\n",
      "      \"type\": \"message\",\n",
      "      \"status\": \"completed\",\n",
      "      \"content\": [\n",
      "        {\n",
      "          \"type\": \"output_text\",\n",
      "          \"annotations\": [],\n",
      "          \"logprobs\": [],\n",
      "          \"text\": \"Hello! Hope you're doing great!\"\n",
      "        }\n",
      "      ],\n",
      "      \"role\": \"assistant\"\n",
      "    }\n",
      "  ],\n",
      "  \"parallel_tool_calls\": true,\n",
      "  \"previous_response_id\": null,\n",
      "  \"prompt_cache_key\": null,\n",
      "  \"reasoning\": {\n",
      "    \"effort\": null,\n",
      "    \"summary\": null\n",
      "  },\n",
      "  \"safety_identifier\": null,\n",
      "  \"service_tier\": \"default\",\n",
      "  \"store\": true,\n",
      "  \"temperature\": 1.0,\n",
      "  \"text\": {\n",
      "    \"format\": {\n",
      "      \"type\": \"text\"\n",
      "    },\n",
      "    \"verbosity\": \"medium\"\n",
      "  },\n",
      "  \"tool_choice\": \"auto\",\n",
      "  \"tools\": [],\n",
      "  \"top_logprobs\": 0,\n",
      "  \"top_p\": 1.0,\n",
      "  \"truncation\": \"disabled\",\n",
      "  \"usage\": {\n",
      "    \"input_tokens\": 14,\n",
      "    \"input_tokens_details\": {\n",
      "      \"cached_tokens\": 0\n",
      "    },\n",
      "    \"output_tokens\": 8,\n",
      "    \"output_tokens_details\": {\n",
      "      \"reasoning_tokens\": 0\n",
      "    },\n",
      "    \"total_tokens\": 22\n",
      "  },\n",
      "  \"user\": null,\n",
      "  \"metadata\": {}\n",
      "}"
     ]
    },
    {
     "name": "stderr",
     "output_type": "stream",
     "text": [
      "\n"
     ]
    }
   ],
   "source": [
    "%%bash\n",
    "\n",
    "curl https://api.openai.com/v1/responses \\\n",
    "  -H \"Authorization: Bearer $OPENAI_API_KEY\" \\\n",
    "  -H \"Content-Type: application/json\" \\\n",
    "  -d '{\"model\":\"gpt-4.1-mini\",\"input\":\"Say hi in 5 words.\"}'"
   ]
  },
  {
   "cell_type": "markdown",
   "id": "aa537fdd",
   "metadata": {},
   "source": [
    "### Python requests using Gemini"
   ]
  },
  {
   "cell_type": "code",
   "execution_count": 23,
   "id": "5e7ff89d",
   "metadata": {},
   "outputs": [
    {
     "name": "stdout",
     "output_type": "stream",
     "text": [
      "{\n",
      "  \"candidates\": [\n",
      "    {\n",
      "      \"content\": {\n",
      "        \"parts\": [\n",
      "          {\n",
      "            \"text\": \"A dog is a domesticated mammal, descended from wolves, known for its loyalty, trainability, and\"\n",
      "          }\n",
      "        ],\n",
      "        \"role\": \"model\"\n",
      "      },\n",
      "      \"finishReason\": \"MAX_TOKENS\",\n",
      "      \"avgLogprobs\": -0.16972227096557618\n",
      "    }\n",
      "  ],\n",
      "  \"usageMetadata\": {\n",
      "    \"promptTokenCount\": 10,\n",
      "    \"candidatesTokenCount\": 20,\n",
      "    \"totalTokenCount\": 30,\n",
      "    \"promptTokensDetails\": [\n",
      "      {\n",
      "        \"modality\": \"TEXT\",\n",
      "        \"tokenCount\": 10\n",
      "      }\n",
      "    ],\n",
      "    \"candidatesTokensDetails\": [\n",
      "      {\n",
      "        \"modality\": \"TEXT\",\n",
      "        \"tokenCount\": 20\n",
      "      }\n",
      "    ]\n",
      "  },\n",
      "  \"modelVersion\": \"gemini-2.0-flash\",\n",
      "  \"responseId\": \"FimjaI3vNbvSz7IPx_mvwAY\"\n",
      "}\n",
      "A dog is a domesticated mammal, descended from wolves, known for its loyalty, trainability, and\n"
     ]
    }
   ],
   "source": [
    "import requests, json\n",
    "\n",
    "url = \"https://generativelanguage.googleapis.com/v1beta/models/gemini-2.0-flash:generateContent\"\n",
    "\n",
    "headers = {\n",
    "    \"Content-Type\": \"application/json\",\n",
    "    \"x-goog-api-key\": GEMINI_API_KEY,   \n",
    "}\n",
    "data = {\n",
    "    \"contents\": [{\n",
    "        \"role\": \"user\",\n",
    "        \"parts\": [{\"text\": \"Explain to me what a dog is. Be succinct\"}]\n",
    "    }],\n",
    "    \"generationConfig\": {\n",
    "        \"maxOutputTokens\": 20,\n",
    "        \"temperature\": 0.7,\n",
    "        \"topP\": 0.9,\n",
    "        \"topK\": 40\n",
    "    }\n",
    "}\n",
    "\n",
    "resp = requests.post(url, headers=headers, json=data)\n",
    "\n",
    "# Pretty-print the whole response JSON\n",
    "print(json.dumps(resp.json(), indent=2))\n",
    "\n",
    "# Or extract just the text\n",
    "print(resp.json()[\"candidates\"][0][\"content\"][\"parts\"][0][\"text\"])\n"
   ]
  },
  {
   "cell_type": "markdown",
   "id": "14a82978",
   "metadata": {},
   "source": [
    "### Python requests using OpenAI"
   ]
  },
  {
   "cell_type": "code",
   "execution_count": 24,
   "id": "c8ebf976",
   "metadata": {},
   "outputs": [
    {
     "name": "stdout",
     "output_type": "stream",
     "text": [
      "Hello! Hope you're doing well!\n"
     ]
    }
   ],
   "source": [
    "import requests\n",
    "\n",
    "url = \"https://api.openai.com/v1/responses\"\n",
    "headers = {\n",
    "    \"Authorization\": f\"Bearer {OPENAI_API_KEY}\",\n",
    "    \"Content-Type\": \"application/json\",\n",
    "}\n",
    "data = {\n",
    "    \"model\": \"gpt-4.1-mini\",\n",
    "    \"input\": \"Say hi in 5 words.\"\n",
    "}\n",
    "r = requests.post(url, headers=headers, json=data)\n",
    "print(r.json()[\"output\"][0][\"content\"][0][\"text\"])\n"
   ]
  }
 ],
 "metadata": {
  "kernelspec": {
   "display_name": "Python 3",
   "language": "python",
   "name": "python3"
  },
  "language_info": {
   "codemirror_mode": {
    "name": "ipython",
    "version": 3
   },
   "file_extension": ".py",
   "mimetype": "text/x-python",
   "name": "python",
   "nbconvert_exporter": "python",
   "pygments_lexer": "ipython3",
   "version": "3.11.9"
  }
 },
 "nbformat": 4,
 "nbformat_minor": 5
}
