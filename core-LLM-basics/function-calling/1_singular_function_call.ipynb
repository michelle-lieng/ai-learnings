{
 "cells": [
  {
   "cell_type": "markdown",
   "id": "2c1a5472",
   "metadata": {},
   "source": [
    "# Function Calling Tutorial PT 1\n",
    "\n",
    "How does function calling (AKA tool calling) work?\n",
    "1. You define your functions which can be api calls e.g. a weather function that connects to a weather api or could be a hardcoded function like a math function that takes 2 inputs and returns an output a+b\n",
    "2. You put all the tools you wrote into the appropriate schema for OpenAI SDK - KEY: You must have your descriptions for both the tool and your input parameters on point.\n",
    "3. INITIAL CALL TO THE LLM: The LLM will decided what function to use if any (can set the tool_choice to what you need) and the args (e.g. if you ask to find weather in sydney and you need lat and long for your function call the LLM will return the lat and long). Append this to messages.\n",
    "4. You take those arguments and feed into your function to get your function output. Take the function output and append it to the messages.\n",
    "5. SECOND CALL TO LLM: Now with your updated messages (includes initial user query, function call + args, function call output) you then feed back to LLM and get the final answer formatted nicely."
   ]
  },
  {
   "cell_type": "markdown",
   "id": "ffb67663",
   "metadata": {},
   "source": [
    "<p align=\"center\">\n",
    "    <img src=\"..\\..\\assets\\function-calling\\steps.png\" alt=\"Function calling steps\" width=\"300\"/>\n",
    "</p>\n",
    "<p align=\"center\">\n",
    "    <img src=\"..\\..\\assets\\function-calling\\tool_choice.png\" alt=\"Function calling steps\" width=\"300\"/>\n",
    "</p>"
   ]
  },
  {
   "cell_type": "code",
   "execution_count": 15,
   "id": "449c216f",
   "metadata": {},
   "outputs": [],
   "source": [
    "from openai import OpenAI\n",
    "import json\n",
    "import os\n",
    "from dotenv import load_dotenv\n",
    "import requests\n",
    "\n",
    "load_dotenv()\n",
    "\n",
    "client = OpenAI(api_key=os.getenv(\"OPENAI_API_KEY\"))"
   ]
  },
  {
   "cell_type": "code",
   "execution_count": 16,
   "id": "2fa70903",
   "metadata": {},
   "outputs": [
    {
     "data": {
      "text/plain": [
       "14.6"
      ]
     },
     "execution_count": 16,
     "metadata": {},
     "output_type": "execute_result"
    }
   ],
   "source": [
    "# Define the function you are going to use:\n",
    "# Uses Open-Meteo's Weather Forecast API!!!\n",
    "def get_weather(latitude, longitude):\n",
    "    url = (\n",
    "        f\"https://api.open-meteo.com/v1/forecast?\"\n",
    "        f\"latitude={latitude}&longitude={longitude}\"\n",
    "        f\"&current=temperature_2m\"\n",
    "    )\n",
    "    \n",
    "    response = requests.get(url)\n",
    "    data = response.json()\n",
    "    \n",
    "    return data.get('current').get('temperature_2m')\n",
    "\n",
    "# example use\n",
    "get_weather(\"-33.8727\", \"151.2057\")"
   ]
  },
  {
   "cell_type": "code",
   "execution_count": null,
   "id": "cef354e8",
   "metadata": {},
   "outputs": [
    {
     "name": "stdout",
     "output_type": "stream",
     "text": [
      "[ResponseFunctionToolCall(arguments='{\"latitude\":\"-33.8688\",\"longitude\":\"151.2093\"}', call_id='call_REqSc4pbRu8lLhwl2OIlYd8T', name='get_current_weather', type='function_call', id='fc_08e03cabcfa9b58d0068c82c4c4cbc8190a87574c0d26d1cf9', status='completed')]\n"
     ]
    }
   ],
   "source": [
    "# define list of callable tools for model\n",
    "tools = [\n",
    "    {\n",
    "        \"type\": \"function\",\n",
    "        \"name\": \"get_current_weather\",\n",
    "        \"description\": \"Get the current weather in degrees Celcius for a given latitude and longitude\",\n",
    "        \"parameters\": {\n",
    "            \"type\": \"object\",\n",
    "            \"properties\": {\n",
    "                \"latitude\": {\n",
    "                    \"type\": \"string\",\n",
    "                    \"description\": \"The latitude of a place\",\n",
    "                },\n",
    "                \"longitude\": {\n",
    "                    \"type\": \"string\",\n",
    "                    \"description\": \"The longitude of a place\",\n",
    "                },\n",
    "            },\n",
    "            \"required\": [\"latitude\", \"longitude\"],\n",
    "        }\n",
    "    }\n",
    "]\n",
    "\n",
    "messages = [{\"role\": \"user\", \"content\": \"What is the weather in Sydney?\"}]\n",
    "\n",
    "#for lesson 2 function calling: if we try the query below this code wouldn't work\n",
    "messages = [{\"role\": \"user\", \"content\": \"What is the weather in Sydney and Busan?\"}]\n",
    "\n",
    "response = client.responses.create(\n",
    "    model=\"gpt-3.5-turbo\",\n",
    "    tools=tools,\n",
    "    input=messages,\n",
    "    tool_choice=\"auto\",\n",
    ")\n",
    "\n",
    "#print(response.model_dump_json(indent=2))\n",
    "print(response.output)\n",
    "\n",
    "# WHAT HAPPENED?\n",
    "# We called the api endpoint and it returned which tool we should use and the inputs"
   ]
  },
  {
   "cell_type": "code",
   "execution_count": 18,
   "id": "d733d8e3",
   "metadata": {},
   "outputs": [
    {
     "name": "stdout",
     "output_type": "stream",
     "text": [
      "ResponseFunctionToolCall(arguments='{\"latitude\":\"-33.8688\",\"longitude\":\"151.2093\"}', call_id='call_REqSc4pbRu8lLhwl2OIlYd8T', name='get_current_weather', type='function_call', id='fc_08e03cabcfa9b58d0068c82c4c4cbc8190a87574c0d26d1cf9', status='completed')\n",
      "{'latitude': '-33.8688', 'longitude': '151.2093'}\n"
     ]
    }
   ],
   "source": [
    "function_call = None\n",
    "function_call_arguments = None\n",
    "messages += response.output\n",
    "\n",
    "for item in response.output:\n",
    "    if item.type == \"function_call\":\n",
    "        function_call = item\n",
    "        function_call_arguments = json.loads(item.arguments)\n",
    "\n",
    "print(function_call)\n",
    "print(function_call_arguments)\n"
   ]
  },
  {
   "cell_type": "code",
   "execution_count": 19,
   "id": "0b7ec4a6",
   "metadata": {},
   "outputs": [
    {
     "name": "stdout",
     "output_type": "stream",
     "text": [
      "{'weather': 14.2}\n"
     ]
    }
   ],
   "source": [
    "# 3. Execute the function logic for get_weather\n",
    "result = {\"weather\": get_weather(function_call_arguments[\"latitude\"], \n",
    "                                 function_call_arguments[\"longitude\"])}\n",
    "print(result)"
   ]
  },
  {
   "cell_type": "code",
   "execution_count": 20,
   "id": "9d0e3c17",
   "metadata": {},
   "outputs": [
    {
     "name": "stdout",
     "output_type": "stream",
     "text": [
      "Final input:\n",
      "[{'content': 'What is the weather in Sydney?', 'role': 'user'},\n",
      " ResponseFunctionToolCall(arguments='{\"latitude\":\"-33.8688\",\"longitude\":\"151.2093\"}', call_id='call_REqSc4pbRu8lLhwl2OIlYd8T', name='get_current_weather', type='function_call', id='fc_08e03cabcfa9b58d0068c82c4c4cbc8190a87574c0d26d1cf9', status='completed'),\n",
      " {'call_id': 'call_REqSc4pbRu8lLhwl2OIlYd8T',\n",
      "  'output': '{\"weather\": 14.2}',\n",
      "  'type': 'function_call_output'}]\n"
     ]
    }
   ],
   "source": [
    "# 4. Provide function call results to the model\n",
    "messages.append({\n",
    "    \"type\": \"function_call_output\",\n",
    "    \"call_id\": function_call.call_id,\n",
    "    \"output\": json.dumps(result),\n",
    "})\n",
    "\n",
    "print(\"Final input:\")\n",
    "from pprint import pprint\n",
    "pprint(messages)"
   ]
  },
  {
   "cell_type": "code",
   "execution_count": 21,
   "id": "5b7b9894",
   "metadata": {},
   "outputs": [
    {
     "name": "stdout",
     "output_type": "stream",
     "text": [
      "Final output:\n",
      "The current weather in Sydney is 14.2 degrees Celsius.\n",
      "\n",
      "\n",
      "{\n",
      "  \"id\": \"resp_08e03cabcfa9b58d0068c82c4e9b0c8190b598ad05e6136281\",\n",
      "  \"created_at\": 1757949006.0,\n",
      "  \"error\": null,\n",
      "  \"incomplete_details\": null,\n",
      "  \"instructions\": null,\n",
      "  \"metadata\": {},\n",
      "  \"model\": \"gpt-3.5-turbo-0125\",\n",
      "  \"object\": \"response\",\n",
      "  \"output\": [\n",
      "    {\n",
      "      \"id\": \"msg_08e03cabcfa9b58d0068c82c533dc48190b79f517dde032ce4\",\n",
      "      \"content\": [\n",
      "        {\n",
      "          \"annotations\": [],\n",
      "          \"text\": \"The current weather in Sydney is 14.2 degrees Celsius.\",\n",
      "          \"type\": \"output_text\",\n",
      "          \"logprobs\": []\n",
      "        }\n",
      "      ],\n",
      "      \"role\": \"assistant\",\n",
      "      \"status\": \"completed\",\n",
      "      \"type\": \"message\"\n",
      "    }\n",
      "  ],\n",
      "  \"parallel_tool_calls\": true,\n",
      "  \"temperature\": 1.0,\n",
      "  \"tool_choice\": \"auto\",\n",
      "  \"tools\": [\n",
      "    {\n",
      "      \"name\": \"get_current_weather\",\n",
      "      \"parameters\": {\n",
      "        \"type\": \"object\",\n",
      "        \"properties\": {\n",
      "          \"latitude\": {\n",
      "            \"type\": \"string\",\n",
      "            \"description\": \"The latitude of a place\"\n",
      "          },\n",
      "          \"longitude\": {\n",
      "            \"type\": \"string\",\n",
      "            \"description\": \"The longitude of a place\"\n",
      "          }\n",
      "        },\n",
      "        \"required\": [\n",
      "          \"latitude\",\n",
      "          \"longitude\"\n",
      "        ],\n",
      "        \"additionalProperties\": false\n",
      "      },\n",
      "      \"strict\": true,\n",
      "      \"type\": \"function\",\n",
      "      \"description\": \"Get the current weather in degrees Celcius for a given latitude and longitude\"\n",
      "    }\n",
      "  ],\n",
      "  \"top_p\": 1.0,\n",
      "  \"background\": false,\n",
      "  \"conversation\": null,\n",
      "  \"max_output_tokens\": null,\n",
      "  \"max_tool_calls\": null,\n",
      "  \"previous_response_id\": null,\n",
      "  \"prompt\": null,\n",
      "  \"prompt_cache_key\": null,\n",
      "  \"reasoning\": {\n",
      "    \"effort\": null,\n",
      "    \"generate_summary\": null,\n",
      "    \"summary\": null\n",
      "  },\n",
      "  \"safety_identifier\": null,\n",
      "  \"service_tier\": \"default\",\n",
      "  \"status\": \"completed\",\n",
      "  \"text\": {\n",
      "    \"format\": {\n",
      "      \"type\": \"text\"\n",
      "    },\n",
      "    \"verbosity\": \"medium\"\n",
      "  },\n",
      "  \"top_logprobs\": 0,\n",
      "  \"truncation\": \"disabled\",\n",
      "  \"usage\": {\n",
      "    \"input_tokens\": 119,\n",
      "    \"input_tokens_details\": {\n",
      "      \"cached_tokens\": 0\n",
      "    },\n",
      "    \"output_tokens\": 15,\n",
      "    \"output_tokens_details\": {\n",
      "      \"reasoning_tokens\": 0\n",
      "    },\n",
      "    \"total_tokens\": 134\n",
      "  },\n",
      "  \"user\": null,\n",
      "  \"store\": true\n",
      "}\n"
     ]
    }
   ],
   "source": [
    "response = client.responses.create(\n",
    "    model=\"gpt-3.5-turbo\",\n",
    "    tools=tools,\n",
    "    input=messages,\n",
    ")\n",
    "\n",
    "# 5. The model should be able to give a response!\n",
    "print(\"Final output:\")\n",
    "print(response.output_text + \"\\n\\n\")\n",
    "print(response.model_dump_json(indent=2))\n"
   ]
  }
 ],
 "metadata": {
  "kernelspec": {
   "display_name": "Python 3",
   "language": "python",
   "name": "python3"
  },
  "language_info": {
   "codemirror_mode": {
    "name": "ipython",
    "version": 3
   },
   "file_extension": ".py",
   "mimetype": "text/x-python",
   "name": "python",
   "nbconvert_exporter": "python",
   "pygments_lexer": "ipython3",
   "version": "3.11.9"
  }
 },
 "nbformat": 4,
 "nbformat_minor": 5
}
