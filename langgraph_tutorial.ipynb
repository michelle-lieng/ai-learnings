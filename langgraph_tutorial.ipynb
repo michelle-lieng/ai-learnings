{
 "cells": [
  {
   "cell_type": "markdown",
   "id": "1c576bed",
   "metadata": {},
   "source": [
    "## Tutorial via Example on how Langgraph Works\n",
    "\n",
    "Langgraph allows us to have full control of the pipeline in which agents apply logic and retrys to tools etc.\n",
    "\n",
    "In this example we are coding a deep research agent that is an expert on energy. We are using mock data.\n",
    "\n",
    "Let's start off importing what we need."
   ]
  },
  {
   "cell_type": "code",
   "execution_count": 9,
   "id": "d937b191",
   "metadata": {},
   "outputs": [
    {
     "name": "stdout",
     "output_type": "stream",
     "text": [
      "Requirement already satisfied: langgraph in c:\\users\\michelle\\appdata\\local\\programs\\python\\python311\\lib\\site-packages (0.6.6)\n",
      "Requirement already satisfied: langchain-core>=0.1 in c:\\users\\michelle\\appdata\\local\\programs\\python\\python311\\lib\\site-packages (from langgraph) (0.3.74)\n",
      "Requirement already satisfied: langgraph-checkpoint<3.0.0,>=2.1.0 in c:\\users\\michelle\\appdata\\local\\programs\\python\\python311\\lib\\site-packages (from langgraph) (2.1.1)\n",
      "Requirement already satisfied: langgraph-prebuilt<0.7.0,>=0.6.0 in c:\\users\\michelle\\appdata\\local\\programs\\python\\python311\\lib\\site-packages (from langgraph) (0.6.4)\n",
      "Requirement already satisfied: langgraph-sdk<0.3.0,>=0.2.2 in c:\\users\\michelle\\appdata\\local\\programs\\python\\python311\\lib\\site-packages (from langgraph) (0.2.2)\n",
      "Requirement already satisfied: pydantic>=2.7.4 in c:\\users\\michelle\\appdata\\local\\programs\\python\\python311\\lib\\site-packages (from langgraph) (2.11.7)\n",
      "Requirement already satisfied: xxhash>=3.5.0 in c:\\users\\michelle\\appdata\\local\\programs\\python\\python311\\lib\\site-packages (from langgraph) (3.5.0)\n",
      "Requirement already satisfied: ormsgpack>=1.10.0 in c:\\users\\michelle\\appdata\\local\\programs\\python\\python311\\lib\\site-packages (from langgraph-checkpoint<3.0.0,>=2.1.0->langgraph) (1.10.0)\n",
      "Requirement already satisfied: httpx>=0.25.2 in c:\\users\\michelle\\appdata\\local\\programs\\python\\python311\\lib\\site-packages (from langgraph-sdk<0.3.0,>=0.2.2->langgraph) (0.28.1)\n",
      "Requirement already satisfied: orjson>=3.10.1 in c:\\users\\michelle\\appdata\\local\\programs\\python\\python311\\lib\\site-packages (from langgraph-sdk<0.3.0,>=0.2.2->langgraph) (3.11.2)\n",
      "Requirement already satisfied: anyio in c:\\users\\michelle\\appdata\\local\\programs\\python\\python311\\lib\\site-packages (from httpx>=0.25.2->langgraph-sdk<0.3.0,>=0.2.2->langgraph) (4.9.0)\n",
      "Requirement already satisfied: certifi in c:\\users\\michelle\\appdata\\local\\programs\\python\\python311\\lib\\site-packages (from httpx>=0.25.2->langgraph-sdk<0.3.0,>=0.2.2->langgraph) (2025.4.26)\n",
      "Requirement already satisfied: httpcore==1.* in c:\\users\\michelle\\appdata\\local\\programs\\python\\python311\\lib\\site-packages (from httpx>=0.25.2->langgraph-sdk<0.3.0,>=0.2.2->langgraph) (1.0.9)\n",
      "Requirement already satisfied: idna in c:\\users\\michelle\\appdata\\local\\programs\\python\\python311\\lib\\site-packages (from httpx>=0.25.2->langgraph-sdk<0.3.0,>=0.2.2->langgraph) (3.10)\n",
      "Requirement already satisfied: h11>=0.16 in c:\\users\\michelle\\appdata\\local\\programs\\python\\python311\\lib\\site-packages (from httpcore==1.*->httpx>=0.25.2->langgraph-sdk<0.3.0,>=0.2.2->langgraph) (0.16.0)\n",
      "Requirement already satisfied: langsmith>=0.3.45 in c:\\users\\michelle\\appdata\\local\\programs\\python\\python311\\lib\\site-packages (from langchain-core>=0.1->langgraph) (0.4.14)\n",
      "Requirement already satisfied: tenacity!=8.4.0,<10.0.0,>=8.1.0 in c:\\users\\michelle\\appdata\\local\\programs\\python\\python311\\lib\\site-packages (from langchain-core>=0.1->langgraph) (9.1.2)\n",
      "Requirement already satisfied: jsonpatch<2.0,>=1.33 in c:\\users\\michelle\\appdata\\local\\programs\\python\\python311\\lib\\site-packages (from langchain-core>=0.1->langgraph) (1.33)\n",
      "Requirement already satisfied: PyYAML>=5.3 in c:\\users\\michelle\\appdata\\local\\programs\\python\\python311\\lib\\site-packages (from langchain-core>=0.1->langgraph) (6.0.2)\n",
      "Requirement already satisfied: typing-extensions>=4.7 in c:\\users\\michelle\\appdata\\local\\programs\\python\\python311\\lib\\site-packages (from langchain-core>=0.1->langgraph) (4.14.0)\n",
      "Requirement already satisfied: packaging>=23.2 in c:\\users\\michelle\\appdata\\local\\programs\\python\\python311\\lib\\site-packages (from langchain-core>=0.1->langgraph) (25.0)\n",
      "Requirement already satisfied: jsonpointer>=1.9 in c:\\users\\michelle\\appdata\\local\\programs\\python\\python311\\lib\\site-packages (from jsonpatch<2.0,>=1.33->langchain-core>=0.1->langgraph) (3.0.0)\n",
      "Requirement already satisfied: requests-toolbelt>=1.0.0 in c:\\users\\michelle\\appdata\\local\\programs\\python\\python311\\lib\\site-packages (from langsmith>=0.3.45->langchain-core>=0.1->langgraph) (1.0.0)\n",
      "Requirement already satisfied: requests>=2.0.0 in c:\\users\\michelle\\appdata\\local\\programs\\python\\python311\\lib\\site-packages (from langsmith>=0.3.45->langchain-core>=0.1->langgraph) (2.32.4)\n",
      "Requirement already satisfied: zstandard>=0.23.0 in c:\\users\\michelle\\appdata\\local\\programs\\python\\python311\\lib\\site-packages (from langsmith>=0.3.45->langchain-core>=0.1->langgraph) (0.24.0)\n",
      "Requirement already satisfied: annotated-types>=0.6.0 in c:\\users\\michelle\\appdata\\local\\programs\\python\\python311\\lib\\site-packages (from pydantic>=2.7.4->langgraph) (0.7.0)\n",
      "Requirement already satisfied: pydantic-core==2.33.2 in c:\\users\\michelle\\appdata\\local\\programs\\python\\python311\\lib\\site-packages (from pydantic>=2.7.4->langgraph) (2.33.2)\n",
      "Requirement already satisfied: typing-inspection>=0.4.0 in c:\\users\\michelle\\appdata\\local\\programs\\python\\python311\\lib\\site-packages (from pydantic>=2.7.4->langgraph) (0.4.1)\n",
      "Requirement already satisfied: charset_normalizer<4,>=2 in c:\\users\\michelle\\appdata\\local\\programs\\python\\python311\\lib\\site-packages (from requests>=2.0.0->langsmith>=0.3.45->langchain-core>=0.1->langgraph) (3.4.2)\n",
      "Requirement already satisfied: urllib3<3,>=1.21.1 in c:\\users\\michelle\\appdata\\local\\programs\\python\\python311\\lib\\site-packages (from requests>=2.0.0->langsmith>=0.3.45->langchain-core>=0.1->langgraph) (2.4.0)\n",
      "Requirement already satisfied: sniffio>=1.1 in c:\\users\\michelle\\appdata\\local\\programs\\python\\python311\\lib\\site-packages (from anyio->httpx>=0.25.2->langgraph-sdk<0.3.0,>=0.2.2->langgraph) (1.3.1)\n"
     ]
    }
   ],
   "source": [
    "!pip install langgraph"
   ]
  },
  {
   "cell_type": "code",
   "execution_count": 10,
   "id": "8a3044b3",
   "metadata": {},
   "outputs": [],
   "source": [
    "from typing_extensions import TypedDict\n",
    "from typing import Literal\n",
    "from langgraph.graph import StateGraph, START, END"
   ]
  },
  {
   "cell_type": "markdown",
   "id": "9dfd1dd0",
   "metadata": {},
   "source": [
    "### STEP 1: Define the state\n",
    "\n",
    "The state basically is a dictionary of all the information you think each agent would need e.g. how many retries they can do, what is the max retries, what is the query, what is the retrieved documents etc. This gets updated as we go along the graph. "
   ]
  },
  {
   "cell_type": "code",
   "execution_count": 11,
   "id": "b1b103b9",
   "metadata": {},
   "outputs": [],
   "source": [
    "class ResearchAgentState(TypedDict):\n",
    "    question: str\n",
    "    retrieved_docs: list[str]\n",
    "    summary: str \n",
    "    report: str\n",
    "    needs_more_info: bool"
   ]
  },
  {
   "cell_type": "markdown",
   "id": "ad5db648",
   "metadata": {},
   "source": [
    "### STEP 2: Defiine the nodes \n",
    "\n",
    "The nodes are all the agents and are where all the tool calling and LLM generation happens. Here in our energy research agent we have the nodes retrieve_documents, summarize_documents, generate_report. At each pt at these agents/nodes the state gets updated and passed onto the next one to update."
   ]
  },
  {
   "cell_type": "code",
   "execution_count": 12,
   "id": "b0ed76d4",
   "metadata": {},
   "outputs": [],
   "source": [
    "def retrieve_documents(state: ResearchAgentState) -> dict:\n",
    "    question = state [\"question\"]\n",
    "    #^^ usually we would use question to simulate semantic similarity retrieval\n",
    "    # Simulate retrieval of documents relevant to renewable energy\n",
    "    docs = [\n",
    "        \"Solar energy is harnessed using photovoltaic cells.\",\n",
    "        \"Wind energy is generated by converting wind currents into electricity.\",\n",
    "        \"Renewable energy reduces carbon emissions and dependence on fossil. fuels.\"\n",
    "    ]\n",
    "    return {\"retrieved_docs\": docs, \"needs_more_info\": False}\n",
    "\n",
    "def summarize_documents(state: ResearchAgentState) -> dict:\n",
    "    # Simulate this summarization by concatenating the points. Pretend this is some LLM that condenses the content.\n",
    "    docs = state.get (\"retrieved_docs\", [])\n",
    "    if not isinstance(docs, list):\n",
    "        raise ValueError (\"Expected 'retrieved_docs' to be a list, got {type(docs)}\")\n",
    "    summary = \" \". join(docs)\n",
    "    return {\"summary\": summary}\n",
    "\n",
    "def generate_report(state: ResearchAgentState) -> dict:\n",
    "    question = state[\"question\"]\n",
    "    summary = state[\"summary\"]\n",
    "    # Generate a research report based on summary and question\n",
    "    report = f\"Research Report on: {question}\\nSummary: {summary}\\nConclusion: Renewable energy is vital for sustainable develópment.\"\n",
    "    # Simulate a check if more info is needed (e.g. if summary is too short)\n",
    "    needs_more_info = len(summary) < 50\n",
    "    return {\"report\": report, \"needs_more_info\": needs_more_info}"
   ]
  },
  {
   "cell_type": "markdown",
   "id": "edc8d050",
   "metadata": {},
   "source": [
    "### STEP 3: Define conditional routing function \n",
    "\n",
    "So this is after an agent/node performs a task what happens next? Which agent does it pass it too and why?"
   ]
  },
  {
   "cell_type": "code",
   "execution_count": 13,
   "id": "85591639",
   "metadata": {},
   "outputs": [],
   "source": [
    "# After retrieve_documents\n",
    "def route_after_retrieve(state: ResearchAgentState) -> Literal[\"summarize _documents\", \"retrieve_documents\"]:\n",
    "    if state.get(\"needs_more_info\"): \n",
    "        return \"retrieve_documents\"\n",
    "    return \"summarize_documents\"\n",
    "\n",
    "# After generate_report\n",
    "def route_after_report(state: ResearchAgentState) -> Literal[\"retrieve_documents\", \"end\"]:\n",
    "    if state.get(\"needs_more_info\"):\n",
    "        return \"retrieve_documents\"\n",
    "    return \"end\""
   ]
  },
  {
   "cell_type": "markdown",
   "id": "291f028c",
   "metadata": {},
   "source": [
    "### Step 4: Build graph\n",
    "\n",
    "Nodes are where you match the function you defined up to a name which is what you call the agent. Honestly can be the same. Edges on the other hand are how you link the agents which is where the conditional routing functions become super important! Also in the edges we start with our START node which we imported and go to our END node.\n",
    "\n",
    "TO DO LATER: Do research on conditional edges when we run things parallel (I commented it out below)"
   ]
  },
  {
   "cell_type": "code",
   "execution_count": null,
   "id": "bef857e2",
   "metadata": {},
   "outputs": [],
   "source": [
    "# Initialise it \n",
    "builder = StateGraph(ResearchAgentState)\n",
    "\n",
    "# Add nodes\n",
    "builder.add_node(\"retrieve_documents\", retrieve_documents)\n",
    "builder.add_node(\"summarize_documents\", summarize_documents)\n",
    "builder.add_node(\"generate_report\", generate_report)\n",
    "\n",
    "# Define edges\n",
    "builder.add_edge(START, \"retrieve_documents\")\n",
    "builder.add_conditional_edges(\"retrieve_documents\", \n",
    "                              route_after_retrieve, \n",
    "                              {\"summarize_documents\": \"summarize_documents\",\"retrieve_documents\":\"retrieve_documents\"})\n",
    "# COULD USE IF RUN PARALLEL: builder, add_conditional_edges(\"summarize_documents\", decide_next_node, (\"generate_report\": \"generate _report\"})\n",
    "builder. add_edge(\"summarize_documents\",\"generate_report\")\n",
    "builder.add_conditional_edges(\"generate_report\", \n",
    "                              route_after_report, \n",
    "                              {\"retrieve_documents\": \"retrieve_documents\",\"end\": END})\n",
    "\n",
    "# Compile the graph \n",
    "graph = builder.compile()"
   ]
  },
  {
   "cell_type": "markdown",
   "id": "b7c7eb16",
   "metadata": {},
   "source": [
    "### STEP 5: Run the graph \n",
    "\n",
    "Let's run a query through"
   ]
  },
  {
   "cell_type": "code",
   "execution_count": 17,
   "id": "f746052e",
   "metadata": {},
   "outputs": [
    {
     "name": "stdout",
     "output_type": "stream",
     "text": [
      "Final Research Report: \n",
      " Research Report on: What are the main renewable energy sources and their benefits?\n",
      "Summary: Solar energy is harnessed using photovoltaic cells. Wind energy is generated by converting wind currents into electricity. Renewable energy reduces carbon emissions and dependence on fossil. fuels.\n",
      "Conclusion: Renewable energy is vital for sustainable develópment.\n",
      "\n",
      "\n",
      "THE STATES THROUGHOUT\n",
      "1.Current state: {'question': 'What are the main renewable energy sources and their benefits?'}\n",
      "1.Current state: {'question': 'What are the main renewable energy sources and their benefits?', 'retrieved_docs': ['Solar energy is harnessed using photovoltaic cells.', 'Wind energy is generated by converting wind currents into electricity.', 'Renewable energy reduces carbon emissions and dependence on fossil. fuels.'], 'needs_more_info': False}\n",
      "1.Current state: {'question': 'What are the main renewable energy sources and their benefits?', 'retrieved_docs': ['Solar energy is harnessed using photovoltaic cells.', 'Wind energy is generated by converting wind currents into electricity.', 'Renewable energy reduces carbon emissions and dependence on fossil. fuels.'], 'summary': 'Solar energy is harnessed using photovoltaic cells. Wind energy is generated by converting wind currents into electricity. Renewable energy reduces carbon emissions and dependence on fossil. fuels.', 'needs_more_info': False}\n",
      "1.Current state: {'question': 'What are the main renewable energy sources and their benefits?', 'retrieved_docs': ['Solar energy is harnessed using photovoltaic cells.', 'Wind energy is generated by converting wind currents into electricity.', 'Renewable energy reduces carbon emissions and dependence on fossil. fuels.'], 'summary': 'Solar energy is harnessed using photovoltaic cells. Wind energy is generated by converting wind currents into electricity. Renewable energy reduces carbon emissions and dependence on fossil. fuels.', 'report': 'Research Report on: What are the main renewable energy sources and their benefits?\\nSummary: Solar energy is harnessed using photovoltaic cells. Wind energy is generated by converting wind currents into electricity. Renewable energy reduces carbon emissions and dependence on fossil. fuels.\\nConclusion: Renewable energy is vital for sustainable develópment.', 'needs_more_info': False}\n",
      "\n",
      "\n",
      "WHOLE RESULT\n",
      "{'question': 'What are the main renewable energy sources and their benefits?', 'retrieved_docs': ['Solar energy is harnessed using photovoltaic cells.', 'Wind energy is generated by converting wind currents into electricity.', 'Renewable energy reduces carbon emissions and dependence on fossil. fuels.'], 'summary': 'Solar energy is harnessed using photovoltaic cells. Wind energy is generated by converting wind currents into electricity. Renewable energy reduces carbon emissions and dependence on fossil. fuels.', 'report': 'Research Report on: What are the main renewable energy sources and their benefits?\\nSummary: Solar energy is harnessed using photovoltaic cells. Wind energy is generated by converting wind currents into electricity. Renewable energy reduces carbon emissions and dependence on fossil. fuels.\\nConclusion: Renewable energy is vital for sustainable develópment.', 'needs_more_info': False}\n"
     ]
    }
   ],
   "source": [
    "inputs = {\"question\": \"What are the main renewable energy sources and their benefits?\"}\n",
    "result = graph.invoke(inputs)\n",
    "print(\"Final Research Report: \\n\", result[\"report\"]) \n",
    "\n",
    "print(\"\\n\")\n",
    "print(\"THE STATES THROUGHOUT\")\n",
    "for i, output in enumerate(graph. stream(inputs, stream_mode=\"values\"), 1):\n",
    "    print (f\"{1}.Current state:\", output)\n",
    "\n",
    "print(\"\\n\")\n",
    "print(\"WHOLE RESULT\")\n",
    "print(result)"
   ]
  }
 ],
 "metadata": {
  "kernelspec": {
   "display_name": "Python 3",
   "language": "python",
   "name": "python3"
  },
  "language_info": {
   "codemirror_mode": {
    "name": "ipython",
    "version": 3
   },
   "file_extension": ".py",
   "mimetype": "text/x-python",
   "name": "python",
   "nbconvert_exporter": "python",
   "pygments_lexer": "ipython3",
   "version": "3.11.9"
  }
 },
 "nbformat": 4,
 "nbformat_minor": 5
}
