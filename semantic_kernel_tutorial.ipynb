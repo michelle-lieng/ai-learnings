{
 "cells": [
  {
   "cell_type": "markdown",
   "id": "cc533845",
   "metadata": {},
   "source": [
    "## What is Semantic Kernel?"
   ]
  },
  {
   "cell_type": "code",
   "execution_count": 4,
   "id": "0faab155",
   "metadata": {},
   "outputs": [
    {
     "name": "stdout",
     "output_type": "stream",
     "text": [
      "Requirement already satisfied: semantic-kernel in c:\\users\\michelle\\appdata\\local\\programs\\python\\python311\\lib\\site-packages (1.35.3)\n",
      "Requirement already satisfied: azure-ai-projects>=1.0.0b12 in c:\\users\\michelle\\appdata\\local\\programs\\python\\python311\\lib\\site-packages (from semantic-kernel) (1.1.0b2)\n",
      "Requirement already satisfied: azure-ai-agents>=1.1.0b4 in c:\\users\\michelle\\appdata\\local\\programs\\python\\python311\\lib\\site-packages (from semantic-kernel) (1.2.0b2)\n",
      "Requirement already satisfied: aiohttp~=3.8 in c:\\users\\michelle\\appdata\\local\\programs\\python\\python311\\lib\\site-packages (from semantic-kernel) (3.12.15)\n",
      "Requirement already satisfied: cloudevents~=1.0 in c:\\users\\michelle\\appdata\\local\\programs\\python\\python311\\lib\\site-packages (from semantic-kernel) (1.12.0)\n",
      "Requirement already satisfied: pydantic!=2.10.0,!=2.10.1,!=2.10.2,!=2.10.3,<2.12,>=2.0 in c:\\users\\michelle\\appdata\\local\\programs\\python\\python311\\lib\\site-packages (from semantic-kernel) (2.11.7)\n",
      "Requirement already satisfied: pydantic-settings~=2.0 in c:\\users\\michelle\\appdata\\local\\programs\\python\\python311\\lib\\site-packages (from semantic-kernel) (2.10.1)\n",
      "Requirement already satisfied: defusedxml~=0.7 in c:\\users\\michelle\\appdata\\local\\programs\\python\\python311\\lib\\site-packages (from semantic-kernel) (0.7.1)\n",
      "Requirement already satisfied: azure-identity>=1.13 in c:\\users\\michelle\\appdata\\local\\programs\\python\\python311\\lib\\site-packages (from semantic-kernel) (1.24.0)\n",
      "Requirement already satisfied: numpy>=1.25.0 in c:\\users\\michelle\\appdata\\local\\programs\\python\\python311\\lib\\site-packages (from semantic-kernel) (2.3.0)\n",
      "Requirement already satisfied: openai>=1.98.0 in c:\\users\\michelle\\appdata\\local\\programs\\python\\python311\\lib\\site-packages (from semantic-kernel) (1.100.2)\n",
      "Requirement already satisfied: openapi_core<0.20,>=0.18 in c:\\users\\michelle\\appdata\\local\\programs\\python\\python311\\lib\\site-packages (from semantic-kernel) (0.19.5)\n",
      "Requirement already satisfied: websockets<16,>=13 in c:\\users\\michelle\\appdata\\local\\programs\\python\\python311\\lib\\site-packages (from semantic-kernel) (15.0.1)\n",
      "Requirement already satisfied: aiortc>=1.9.0 in c:\\users\\michelle\\appdata\\local\\programs\\python\\python311\\lib\\site-packages (from semantic-kernel) (1.13.0)\n",
      "Requirement already satisfied: opentelemetry-api~=1.24 in c:\\users\\michelle\\appdata\\local\\programs\\python\\python311\\lib\\site-packages (from semantic-kernel) (1.36.0)\n",
      "Requirement already satisfied: opentelemetry-sdk~=1.24 in c:\\users\\michelle\\appdata\\local\\programs\\python\\python311\\lib\\site-packages (from semantic-kernel) (1.36.0)\n",
      "Requirement already satisfied: prance<25.4.9,>=23.6.21 in c:\\users\\michelle\\appdata\\local\\programs\\python\\python311\\lib\\site-packages (from semantic-kernel) (25.4.8.0)\n",
      "Requirement already satisfied: pybars4~=0.9 in c:\\users\\michelle\\appdata\\local\\programs\\python\\python311\\lib\\site-packages (from semantic-kernel) (0.9.13)\n",
      "Requirement already satisfied: jinja2~=3.1 in c:\\users\\michelle\\appdata\\local\\programs\\python\\python311\\lib\\site-packages (from semantic-kernel) (3.1.6)\n",
      "Requirement already satisfied: nest-asyncio~=1.6 in c:\\users\\michelle\\appdata\\roaming\\python\\python311\\site-packages (from semantic-kernel) (1.6.0)\n",
      "Requirement already satisfied: scipy>=1.15.1 in c:\\users\\michelle\\appdata\\local\\programs\\python\\python311\\lib\\site-packages (from semantic-kernel) (1.16.1)\n",
      "Requirement already satisfied: protobuf in c:\\users\\michelle\\appdata\\local\\programs\\python\\python311\\lib\\site-packages (from semantic-kernel) (5.29.5)\n",
      "Requirement already satisfied: typing-extensions>=4.13 in c:\\users\\michelle\\appdata\\local\\programs\\python\\python311\\lib\\site-packages (from semantic-kernel) (4.14.0)\n",
      "Requirement already satisfied: aiohappyeyeballs>=2.5.0 in c:\\users\\michelle\\appdata\\local\\programs\\python\\python311\\lib\\site-packages (from aiohttp~=3.8->semantic-kernel) (2.6.1)\n",
      "Requirement already satisfied: aiosignal>=1.4.0 in c:\\users\\michelle\\appdata\\local\\programs\\python\\python311\\lib\\site-packages (from aiohttp~=3.8->semantic-kernel) (1.4.0)\n",
      "Requirement already satisfied: attrs>=17.3.0 in c:\\users\\michelle\\appdata\\local\\programs\\python\\python311\\lib\\site-packages (from aiohttp~=3.8->semantic-kernel) (25.3.0)\n",
      "Requirement already satisfied: frozenlist>=1.1.1 in c:\\users\\michelle\\appdata\\local\\programs\\python\\python311\\lib\\site-packages (from aiohttp~=3.8->semantic-kernel) (1.7.0)\n",
      "Requirement already satisfied: multidict<7.0,>=4.5 in c:\\users\\michelle\\appdata\\local\\programs\\python\\python311\\lib\\site-packages (from aiohttp~=3.8->semantic-kernel) (6.6.4)\n",
      "Requirement already satisfied: propcache>=0.2.0 in c:\\users\\michelle\\appdata\\local\\programs\\python\\python311\\lib\\site-packages (from aiohttp~=3.8->semantic-kernel) (0.3.2)\n",
      "Requirement already satisfied: yarl<2.0,>=1.17.0 in c:\\users\\michelle\\appdata\\local\\programs\\python\\python311\\lib\\site-packages (from aiohttp~=3.8->semantic-kernel) (1.20.1)\n",
      "Requirement already satisfied: deprecation<3.0,>=2.0 in c:\\users\\michelle\\appdata\\local\\programs\\python\\python311\\lib\\site-packages (from cloudevents~=1.0->semantic-kernel) (2.1.0)\n",
      "Requirement already satisfied: packaging in c:\\users\\michelle\\appdata\\local\\programs\\python\\python311\\lib\\site-packages (from deprecation<3.0,>=2.0->cloudevents~=1.0->semantic-kernel) (25.0)\n",
      "Requirement already satisfied: MarkupSafe>=2.0 in c:\\users\\michelle\\appdata\\local\\programs\\python\\python311\\lib\\site-packages (from jinja2~=3.1->semantic-kernel) (3.0.2)\n",
      "Requirement already satisfied: isodate in c:\\users\\michelle\\appdata\\local\\programs\\python\\python311\\lib\\site-packages (from openapi_core<0.20,>=0.18->semantic-kernel) (0.7.2)\n",
      "Requirement already satisfied: jsonschema<5.0.0,>=4.18.0 in c:\\users\\michelle\\appdata\\local\\programs\\python\\python311\\lib\\site-packages (from openapi_core<0.20,>=0.18->semantic-kernel) (4.25.1)\n",
      "Requirement already satisfied: jsonschema-path<0.4.0,>=0.3.1 in c:\\users\\michelle\\appdata\\local\\programs\\python\\python311\\lib\\site-packages (from openapi_core<0.20,>=0.18->semantic-kernel) (0.3.4)\n",
      "Requirement already satisfied: more-itertools in c:\\users\\michelle\\appdata\\local\\programs\\python\\python311\\lib\\site-packages (from openapi_core<0.20,>=0.18->semantic-kernel) (10.7.0)\n",
      "Requirement already satisfied: openapi-schema-validator<0.7.0,>=0.6.0 in c:\\users\\michelle\\appdata\\local\\programs\\python\\python311\\lib\\site-packages (from openapi_core<0.20,>=0.18->semantic-kernel) (0.6.3)\n",
      "Requirement already satisfied: openapi-spec-validator<0.8.0,>=0.7.1 in c:\\users\\michelle\\appdata\\local\\programs\\python\\python311\\lib\\site-packages (from openapi_core<0.20,>=0.18->semantic-kernel) (0.7.2)\n",
      "Requirement already satisfied: parse in c:\\users\\michelle\\appdata\\local\\programs\\python\\python311\\lib\\site-packages (from openapi_core<0.20,>=0.18->semantic-kernel) (1.20.2)\n",
      "Requirement already satisfied: werkzeug<3.1.2 in c:\\users\\michelle\\appdata\\local\\programs\\python\\python311\\lib\\site-packages (from openapi_core<0.20,>=0.18->semantic-kernel) (3.1.1)\n",
      "Requirement already satisfied: jsonschema-specifications>=2023.03.6 in c:\\users\\michelle\\appdata\\local\\programs\\python\\python311\\lib\\site-packages (from jsonschema<5.0.0,>=4.18.0->openapi_core<0.20,>=0.18->semantic-kernel) (2025.4.1)\n",
      "Requirement already satisfied: referencing>=0.28.4 in c:\\users\\michelle\\appdata\\local\\programs\\python\\python311\\lib\\site-packages (from jsonschema<5.0.0,>=4.18.0->openapi_core<0.20,>=0.18->semantic-kernel) (0.36.2)\n",
      "Requirement already satisfied: rpds-py>=0.7.1 in c:\\users\\michelle\\appdata\\local\\programs\\python\\python311\\lib\\site-packages (from jsonschema<5.0.0,>=4.18.0->openapi_core<0.20,>=0.18->semantic-kernel) (0.27.0)\n",
      "Requirement already satisfied: PyYAML>=5.1 in c:\\users\\michelle\\appdata\\local\\programs\\python\\python311\\lib\\site-packages (from jsonschema-path<0.4.0,>=0.3.1->openapi_core<0.20,>=0.18->semantic-kernel) (6.0.2)\n",
      "Requirement already satisfied: pathable<0.5.0,>=0.4.1 in c:\\users\\michelle\\appdata\\local\\programs\\python\\python311\\lib\\site-packages (from jsonschema-path<0.4.0,>=0.3.1->openapi_core<0.20,>=0.18->semantic-kernel) (0.4.4)\n",
      "Requirement already satisfied: requests<3.0.0,>=2.31.0 in c:\\users\\michelle\\appdata\\local\\programs\\python\\python311\\lib\\site-packages (from jsonschema-path<0.4.0,>=0.3.1->openapi_core<0.20,>=0.18->semantic-kernel) (2.32.4)\n",
      "Requirement already satisfied: rfc3339-validator in c:\\users\\michelle\\appdata\\local\\programs\\python\\python311\\lib\\site-packages (from openapi-schema-validator<0.7.0,>=0.6.0->openapi_core<0.20,>=0.18->semantic-kernel) (0.1.4)\n",
      "Requirement already satisfied: lazy-object-proxy<2.0.0,>=1.7.1 in c:\\users\\michelle\\appdata\\local\\programs\\python\\python311\\lib\\site-packages (from openapi-spec-validator<0.8.0,>=0.7.1->openapi_core<0.20,>=0.18->semantic-kernel) (1.11.0)\n",
      "Requirement already satisfied: importlib-metadata<8.8.0,>=6.0 in c:\\users\\michelle\\appdata\\local\\programs\\python\\python311\\lib\\site-packages (from opentelemetry-api~=1.24->semantic-kernel) (8.7.0)\n",
      "Requirement already satisfied: zipp>=3.20 in c:\\users\\michelle\\appdata\\local\\programs\\python\\python311\\lib\\site-packages (from importlib-metadata<8.8.0,>=6.0->opentelemetry-api~=1.24->semantic-kernel) (3.23.0)\n",
      "Requirement already satisfied: opentelemetry-semantic-conventions==0.57b0 in c:\\users\\michelle\\appdata\\local\\programs\\python\\python311\\lib\\site-packages (from opentelemetry-sdk~=1.24->semantic-kernel) (0.57b0)\n",
      "Requirement already satisfied: chardet>=5.2 in c:\\users\\michelle\\appdata\\local\\programs\\python\\python311\\lib\\site-packages (from prance<25.4.9,>=23.6.21->semantic-kernel) (5.2.0)\n",
      "Requirement already satisfied: ruamel.yaml>=0.18.10 in c:\\users\\michelle\\appdata\\local\\programs\\python\\python311\\lib\\site-packages (from prance<25.4.9,>=23.6.21->semantic-kernel) (0.18.15)\n",
      "Requirement already satisfied: PyMeta3>=0.5.1 in c:\\users\\michelle\\appdata\\local\\programs\\python\\python311\\lib\\site-packages (from pybars4~=0.9->semantic-kernel) (0.5.1)\n",
      "Requirement already satisfied: annotated-types>=0.6.0 in c:\\users\\michelle\\appdata\\local\\programs\\python\\python311\\lib\\site-packages (from pydantic!=2.10.0,!=2.10.1,!=2.10.2,!=2.10.3,<2.12,>=2.0->semantic-kernel) (0.7.0)\n",
      "Requirement already satisfied: pydantic-core==2.33.2 in c:\\users\\michelle\\appdata\\local\\programs\\python\\python311\\lib\\site-packages (from pydantic!=2.10.0,!=2.10.1,!=2.10.2,!=2.10.3,<2.12,>=2.0->semantic-kernel) (2.33.2)\n",
      "Requirement already satisfied: typing-inspection>=0.4.0 in c:\\users\\michelle\\appdata\\local\\programs\\python\\python311\\lib\\site-packages (from pydantic!=2.10.0,!=2.10.1,!=2.10.2,!=2.10.3,<2.12,>=2.0->semantic-kernel) (0.4.1)\n",
      "Requirement already satisfied: python-dotenv>=0.21.0 in c:\\users\\michelle\\appdata\\local\\programs\\python\\python311\\lib\\site-packages (from pydantic-settings~=2.0->semantic-kernel) (1.1.0)\n",
      "Requirement already satisfied: charset_normalizer<4,>=2 in c:\\users\\michelle\\appdata\\local\\programs\\python\\python311\\lib\\site-packages (from requests<3.0.0,>=2.31.0->jsonschema-path<0.4.0,>=0.3.1->openapi_core<0.20,>=0.18->semantic-kernel) (3.4.2)\n",
      "Requirement already satisfied: idna<4,>=2.5 in c:\\users\\michelle\\appdata\\local\\programs\\python\\python311\\lib\\site-packages (from requests<3.0.0,>=2.31.0->jsonschema-path<0.4.0,>=0.3.1->openapi_core<0.20,>=0.18->semantic-kernel) (3.10)\n",
      "Requirement already satisfied: urllib3<3,>=1.21.1 in c:\\users\\michelle\\appdata\\local\\programs\\python\\python311\\lib\\site-packages (from requests<3.0.0,>=2.31.0->jsonschema-path<0.4.0,>=0.3.1->openapi_core<0.20,>=0.18->semantic-kernel) (2.4.0)\n",
      "Requirement already satisfied: certifi>=2017.4.17 in c:\\users\\michelle\\appdata\\local\\programs\\python\\python311\\lib\\site-packages (from requests<3.0.0,>=2.31.0->jsonschema-path<0.4.0,>=0.3.1->openapi_core<0.20,>=0.18->semantic-kernel) (2025.4.26)\n",
      "Requirement already satisfied: aioice<1.0.0,>=0.10.1 in c:\\users\\michelle\\appdata\\local\\programs\\python\\python311\\lib\\site-packages (from aiortc>=1.9.0->semantic-kernel) (0.10.1)\n",
      "Requirement already satisfied: av<15.0.0,>=14.0.0 in c:\\users\\michelle\\appdata\\local\\programs\\python\\python311\\lib\\site-packages (from aiortc>=1.9.0->semantic-kernel) (14.4.0)\n",
      "Requirement already satisfied: cffi>=1.0.0 in c:\\users\\michelle\\appdata\\local\\programs\\python\\python311\\lib\\site-packages (from aiortc>=1.9.0->semantic-kernel) (1.17.1)\n",
      "Requirement already satisfied: cryptography>=44.0.0 in c:\\users\\michelle\\appdata\\local\\programs\\python\\python311\\lib\\site-packages (from aiortc>=1.9.0->semantic-kernel) (45.0.4)\n",
      "Requirement already satisfied: google-crc32c>=1.1 in c:\\users\\michelle\\appdata\\local\\programs\\python\\python311\\lib\\site-packages (from aiortc>=1.9.0->semantic-kernel) (1.7.1)\n",
      "Requirement already satisfied: pyee>=13.0.0 in c:\\users\\michelle\\appdata\\local\\programs\\python\\python311\\lib\\site-packages (from aiortc>=1.9.0->semantic-kernel) (13.0.0)\n",
      "Requirement already satisfied: pylibsrtp>=0.10.0 in c:\\users\\michelle\\appdata\\local\\programs\\python\\python311\\lib\\site-packages (from aiortc>=1.9.0->semantic-kernel) (0.12.0)\n",
      "Requirement already satisfied: pyopenssl>=25.0.0 in c:\\users\\michelle\\appdata\\local\\programs\\python\\python311\\lib\\site-packages (from aiortc>=1.9.0->semantic-kernel) (25.1.0)\n",
      "Requirement already satisfied: dnspython>=2.0.0 in c:\\users\\michelle\\appdata\\local\\programs\\python\\python311\\lib\\site-packages (from aioice<1.0.0,>=0.10.1->aiortc>=1.9.0->semantic-kernel) (2.7.0)\n",
      "Requirement already satisfied: ifaddr>=0.2.0 in c:\\users\\michelle\\appdata\\local\\programs\\python\\python311\\lib\\site-packages (from aioice<1.0.0,>=0.10.1->aiortc>=1.9.0->semantic-kernel) (0.2.0)\n",
      "Requirement already satisfied: azure-core>=1.30.0 in c:\\users\\michelle\\appdata\\local\\programs\\python\\python311\\lib\\site-packages (from azure-ai-agents>=1.1.0b4->semantic-kernel) (1.35.0)\n",
      "Requirement already satisfied: azure-storage-blob>=12.15.0 in c:\\users\\michelle\\appdata\\local\\programs\\python\\python311\\lib\\site-packages (from azure-ai-projects>=1.0.0b12->semantic-kernel) (12.26.0)\n",
      "Requirement already satisfied: six>=1.11.0 in c:\\users\\michelle\\appdata\\local\\programs\\python\\python311\\lib\\site-packages (from azure-core>=1.30.0->azure-ai-agents>=1.1.0b4->semantic-kernel) (1.17.0)\n",
      "Requirement already satisfied: msal>=1.30.0 in c:\\users\\michelle\\appdata\\local\\programs\\python\\python311\\lib\\site-packages (from azure-identity>=1.13->semantic-kernel) (1.33.0)\n",
      "Requirement already satisfied: msal-extensions>=1.2.0 in c:\\users\\michelle\\appdata\\local\\programs\\python\\python311\\lib\\site-packages (from azure-identity>=1.13->semantic-kernel) (1.3.1)\n",
      "Requirement already satisfied: pycparser in c:\\users\\michelle\\appdata\\local\\programs\\python\\python311\\lib\\site-packages (from cffi>=1.0.0->aiortc>=1.9.0->semantic-kernel) (2.22)\n",
      "Requirement already satisfied: PyJWT<3,>=1.0.0 in c:\\users\\michelle\\appdata\\local\\programs\\python\\python311\\lib\\site-packages (from PyJWT[crypto]<3,>=1.0.0->msal>=1.30.0->azure-identity>=1.13->semantic-kernel) (2.10.1)\n",
      "Requirement already satisfied: anyio<5,>=3.5.0 in c:\\users\\michelle\\appdata\\local\\programs\\python\\python311\\lib\\site-packages (from openai>=1.98.0->semantic-kernel) (4.9.0)\n",
      "Requirement already satisfied: distro<2,>=1.7.0 in c:\\users\\michelle\\appdata\\local\\programs\\python\\python311\\lib\\site-packages (from openai>=1.98.0->semantic-kernel) (1.9.0)\n",
      "Requirement already satisfied: httpx<1,>=0.23.0 in c:\\users\\michelle\\appdata\\local\\programs\\python\\python311\\lib\\site-packages (from openai>=1.98.0->semantic-kernel) (0.28.1)\n",
      "Requirement already satisfied: jiter<1,>=0.4.0 in c:\\users\\michelle\\appdata\\local\\programs\\python\\python311\\lib\\site-packages (from openai>=1.98.0->semantic-kernel) (0.10.0)\n",
      "Requirement already satisfied: sniffio in c:\\users\\michelle\\appdata\\local\\programs\\python\\python311\\lib\\site-packages (from openai>=1.98.0->semantic-kernel) (1.3.1)\n",
      "Requirement already satisfied: tqdm>4 in c:\\users\\michelle\\appdata\\local\\programs\\python\\python311\\lib\\site-packages (from openai>=1.98.0->semantic-kernel) (4.67.1)\n",
      "Requirement already satisfied: httpcore==1.* in c:\\users\\michelle\\appdata\\local\\programs\\python\\python311\\lib\\site-packages (from httpx<1,>=0.23.0->openai>=1.98.0->semantic-kernel) (1.0.9)\n",
      "Requirement already satisfied: h11>=0.16 in c:\\users\\michelle\\appdata\\local\\programs\\python\\python311\\lib\\site-packages (from httpcore==1.*->httpx<1,>=0.23.0->openai>=1.98.0->semantic-kernel) (0.16.0)\n",
      "Requirement already satisfied: ruamel.yaml.clib>=0.2.7 in c:\\users\\michelle\\appdata\\local\\programs\\python\\python311\\lib\\site-packages (from ruamel.yaml>=0.18.10->prance<25.4.9,>=23.6.21->semantic-kernel) (0.2.12)\n",
      "Requirement already satisfied: colorama in c:\\users\\michelle\\appdata\\local\\programs\\python\\python311\\lib\\site-packages (from tqdm>4->openai>=1.98.0->semantic-kernel) (0.4.6)\n"
     ]
    }
   ],
   "source": [
    "!pip install semantic-kernel"
   ]
  },
  {
   "cell_type": "markdown",
   "id": "33f5db51",
   "metadata": {},
   "source": [
    "The main thing about semantic-kernel is the \"kernel\" --> this is the brain and orchestrator of all the LLMs, plugins and memory."
   ]
  },
  {
   "cell_type": "code",
   "execution_count": null,
   "id": "e51302ed",
   "metadata": {},
   "outputs": [
    {
     "name": "stdout",
     "output_type": "stream",
     "text": [
      "Integrates LLMs with tools.\n"
     ]
    }
   ],
   "source": [
    "from semantic_kernel import Kernel\n",
    "from semantic_kernel.connectors.ai.open_ai import OpenAIChatCompletion\n",
    "from semantic_kernel.functions import KernelArguments\n",
    "from dotenv import load_dotenv\n",
    "import os\n",
    "\n",
    "load_dotenv()\n",
    "\n",
    "# Create a kernel\n",
    "kernel = Kernel()\n",
    "\n",
    "# Connect to OpenAI\n",
    "kernel.add_service(OpenAIChatCompletion(\n",
    "    ai_model_id=\"gpt-4o-mini\", \n",
    "    api_key=os.getenv(\"OPENAI_API_KEY\")\n",
    "))\n",
    "\n",
    "PROMPT = \"\"\"\n",
    "You are concise.\n",
    "Give me the TL;DR of this in exactly {{$words}} words:\n",
    "\n",
    "{{$text}}\n",
    "\"\"\"\n",
    "\n",
    "args = KernelArguments(words=4, text=\"Semantic Kernel helps you wire LLMs to your own tools and memory.\")\n",
    "result = await kernel.invoke_prompt(PROMPT, arguments=args)\n",
    "print(result)"
   ]
  },
  {
   "cell_type": "code",
   "execution_count": 18,
   "id": "9e0b66ec",
   "metadata": {},
   "outputs": [
    {
     "name": "stdout",
     "output_type": "stream",
     "text": [
      "42\n"
     ]
    }
   ],
   "source": [
    "import asyncio\n",
    "from typing import Annotated\n",
    "from semantic_kernel import Kernel\n",
    "from semantic_kernel.functions import kernel_function, KernelArguments\n",
    "from semantic_kernel.functions.kernel_plugin import KernelPlugin\n",
    "from semantic_kernel.connectors.ai.open_ai import OpenAIChatCompletion\n",
    "\n",
    "class MathPlugin:\n",
    "    @kernel_function(description=\"Multiply two integers.\")\n",
    "    def multiply(\n",
    "        self,\n",
    "        a: Annotated[int, \"first number\"],\n",
    "        b: Annotated[int, \"second number\"],\n",
    "    ) -> int:\n",
    "        return a * b\n",
    "\n",
    "async def main():\n",
    "    kernel = Kernel(services=OpenAIChatCompletion(\n",
    "        ai_model_id=\"gpt-4o-mini\", \n",
    "        api_key=os.getenv(\"OPENAI_API_KEY\")\n",
    "    ))\n",
    "    # Wrap your object as a plugin and add it to the kernel\n",
    "    math = KernelPlugin.from_object(\"Math\", MathPlugin())\n",
    "    kernel.plugins[\"Math\"] = math\n",
    "\n",
    "    # Call your tool directly\n",
    "    out = await kernel.invoke(function_name=\"multiply\", plugin_name=\"Math\",\n",
    "                              arguments=KernelArguments(a=6, b=7))\n",
    "    print(out)\n",
    "\n",
    "await main()\n"
   ]
  },
  {
   "cell_type": "code",
   "execution_count": 22,
   "id": "6b3c7c3a",
   "metadata": {},
   "outputs": [
    {
     "name": "stdout",
     "output_type": "stream",
     "text": [
      "13 * 37 = 481.\n"
     ]
    }
   ],
   "source": [
    "from semantic_kernel.agents import ChatCompletionAgent\n",
    "from semantic_kernel.connectors.ai.open_ai import OpenAIChatCompletion\n",
    "\n",
    "agent = ChatCompletionAgent(\n",
    "    name=\"Helper\",\n",
    "    instructions=\"Use tools when helpful. Be concise.\",\n",
    "    service=OpenAIChatCompletion(\n",
    "        ai_model_id=\"gpt-4o-mini\", \n",
    "        api_key=os.getenv(\"OPENAI_API_KEY\")\n",
    "    ),\n",
    "    plugins=[MathPlugin()],  # classes with @kernel_function methods\n",
    ")\n",
    "\n",
    "async def main():\n",
    "    reply = await agent.get_response(\"What is 13 * 37?\")\n",
    "    print(reply.content)  # Agent may call MathPlugin.multiply under the hood\n",
    "\n",
    "await main()\n"
   ]
  }
 ],
 "metadata": {
  "kernelspec": {
   "display_name": "Python 3",
   "language": "python",
   "name": "python3"
  },
  "language_info": {
   "codemirror_mode": {
    "name": "ipython",
    "version": 3
   },
   "file_extension": ".py",
   "mimetype": "text/x-python",
   "name": "python",
   "nbconvert_exporter": "python",
   "pygments_lexer": "ipython3",
   "version": "3.11.9"
  }
 },
 "nbformat": 4,
 "nbformat_minor": 5
}
